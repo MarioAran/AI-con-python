{
 "cells": [
  {
   "cell_type": "markdown",
   "metadata": {
    "deletable": true,
    "editable": true
   },
   "source": [
    "# Regresión multivariable"
   ]
  },
  {
   "cell_type": "markdown",
   "metadata": {
    "deletable": true,
    "editable": true
   },
   "source": [
    "Obtenemos datos de ventas de coches (ficticios)"
   ]
  },
  {
   "cell_type": "code",
   "execution_count": 28,
   "metadata": {
    "collapsed": false,
    "deletable": true,
    "editable": true,
    "jupyter": {
     "outputs_hidden": false
    }
   },
   "outputs": [
    {
     "data": {
      "text/html": [
       "<div>\n",
       "<style scoped>\n",
       "    .dataframe tbody tr th:only-of-type {\n",
       "        vertical-align: middle;\n",
       "    }\n",
       "\n",
       "    .dataframe tbody tr th {\n",
       "        vertical-align: top;\n",
       "    }\n",
       "\n",
       "    .dataframe thead th {\n",
       "        text-align: right;\n",
       "    }\n",
       "</style>\n",
       "<table border=\"1\" class=\"dataframe\">\n",
       "  <thead>\n",
       "    <tr style=\"text-align: right;\">\n",
       "      <th></th>\n",
       "      <th>Unnamed: 0</th>\n",
       "      <th>TV</th>\n",
       "      <th>radio</th>\n",
       "      <th>newspaper</th>\n",
       "      <th>sales</th>\n",
       "    </tr>\n",
       "  </thead>\n",
       "  <tbody>\n",
       "    <tr>\n",
       "      <th>0</th>\n",
       "      <td>1</td>\n",
       "      <td>230.1</td>\n",
       "      <td>37.8</td>\n",
       "      <td>69.2</td>\n",
       "      <td>22.1</td>\n",
       "    </tr>\n",
       "    <tr>\n",
       "      <th>1</th>\n",
       "      <td>2</td>\n",
       "      <td>44.5</td>\n",
       "      <td>39.3</td>\n",
       "      <td>45.1</td>\n",
       "      <td>10.4</td>\n",
       "    </tr>\n",
       "    <tr>\n",
       "      <th>2</th>\n",
       "      <td>3</td>\n",
       "      <td>17.2</td>\n",
       "      <td>45.9</td>\n",
       "      <td>69.3</td>\n",
       "      <td>9.3</td>\n",
       "    </tr>\n",
       "    <tr>\n",
       "      <th>3</th>\n",
       "      <td>4</td>\n",
       "      <td>151.5</td>\n",
       "      <td>41.3</td>\n",
       "      <td>58.5</td>\n",
       "      <td>18.5</td>\n",
       "    </tr>\n",
       "    <tr>\n",
       "      <th>4</th>\n",
       "      <td>5</td>\n",
       "      <td>180.8</td>\n",
       "      <td>10.8</td>\n",
       "      <td>58.4</td>\n",
       "      <td>12.9</td>\n",
       "    </tr>\n",
       "  </tbody>\n",
       "</table>\n",
       "</div>"
      ],
      "text/plain": [
       "   Unnamed: 0     TV  radio  newspaper  sales\n",
       "0           1  230.1   37.8       69.2   22.1\n",
       "1           2   44.5   39.3       45.1   10.4\n",
       "2           3   17.2   45.9       69.3    9.3\n",
       "3           4  151.5   41.3       58.5   18.5\n",
       "4           5  180.8   10.8       58.4   12.9"
      ]
     },
     "execution_count": 28,
     "metadata": {},
     "output_type": "execute_result"
    }
   ],
   "source": [
    "import pandas as pd\n",
    "import numpy as np\n",
    "\n",
    "\n",
    "#df = pd.read_excel('./datos/Advertising.csv')\n",
    "df = pd.read_csv('./datos/Advertising.csv')\n",
    "df.head()\n",
    "\n"
   ]
  },
  {
   "cell_type": "markdown",
   "metadata": {
    "deletable": true,
    "editable": true
   },
   "source": [
    "Las columnas Make, Model, Trim, Type no son útiles para este ejemplo. No se pueden mapear a nada que tenga sentido.\n",
    "\n",
    "Con Pandas dividimos los datos para sacar los vectores con las caractarísitcas que nos interesan y los valores del precio que es lo que queremos predecir.\n"
   ]
  },
  {
   "cell_type": "markdown",
   "metadata": {
    "deletable": true,
    "editable": true
   },
   "source": [
    "Se escalan los datos para que los distintos coeficientes se puedan comparar entre ellos y ver cuál es más relevante."
   ]
  },
  {
   "cell_type": "code",
   "execution_count": 31,
   "metadata": {
    "collapsed": false,
    "deletable": true,
    "editable": true,
    "jupyter": {
     "outputs_hidden": false
    }
   },
   "outputs": [
    {
     "name": "stdout",
     "output_type": "stream",
     "text": [
      "     const        TV     radio  newspaper     sales\n",
      "0      1.0  0.969852  0.981522   1.778945  1.552053\n",
      "1      1.0 -1.197376  1.082808   0.669579 -0.696046\n",
      "2      1.0 -1.516155  1.528463   1.783549 -0.907406\n",
      "3      1.0  0.052050  1.217855   1.286405  0.860330\n",
      "4      1.0  0.394182 -0.841614   1.281802 -0.215683\n",
      "..     ...       ...       ...        ...       ...\n",
      "195    1.0 -1.270941 -1.321031  -0.771217 -1.234053\n",
      "196    1.0 -0.617035 -1.240003  -1.033598 -0.830548\n",
      "197    1.0  0.349810 -0.942899  -1.111852 -0.234898\n",
      "198    1.0  1.594565  1.265121   1.640850  2.205347\n",
      "199    1.0  0.993206 -0.990165  -1.005979 -0.119610\n",
      "\n",
      "[200 rows x 5 columns]\n"
     ]
    },
    {
     "name": "stderr",
     "output_type": "stream",
     "text": [
      "/var/folders/y5/ts3kf20x52bgymr4_zgtyp980000gn/T/ipykernel_5079/3224817597.py:11: SettingWithCopyWarning: \n",
      "A value is trying to be set on a copy of a slice from a DataFrame.\n",
      "Try using .loc[row_indexer,col_indexer] = value instead\n",
      "\n",
      "See the caveats in the documentation: https://pandas.pydata.org/pandas-docs/stable/user_guide/indexing.html#returning-a-view-versus-a-copy\n",
      "  X[['TV', 'radio', 'newspaper', 'sales']] = scale.fit_transform(X[['TV', 'radio', 'newspaper', 'sales']].to_numpy())\n"
     ]
    },
    {
     "data": {
      "text/html": [
       "<table class=\"simpletable\">\n",
       "<caption>OLS Regression Results</caption>\n",
       "<tr>\n",
       "  <th>Dep. Variable:</th>          <td>sales</td>      <th>  R-squared:         </th>  <td>   1.000</td> \n",
       "</tr>\n",
       "<tr>\n",
       "  <th>Model:</th>                   <td>OLS</td>       <th>  Adj. R-squared:    </th>  <td>   1.000</td> \n",
       "</tr>\n",
       "<tr>\n",
       "  <th>Method:</th>             <td>Least Squares</td>  <th>  F-statistic:       </th>  <td>8.317e+33</td>\n",
       "</tr>\n",
       "<tr>\n",
       "  <th>Date:</th>             <td>Thu, 16 Oct 2025</td> <th>  Prob (F-statistic):</th>   <td>  0.00</td>  \n",
       "</tr>\n",
       "<tr>\n",
       "  <th>Time:</th>                 <td>19:55:01</td>     <th>  Log-Likelihood:    </th>  <td>  6808.0</td> \n",
       "</tr>\n",
       "<tr>\n",
       "  <th>No. Observations:</th>      <td>   200</td>      <th>  AIC:               </th> <td>-1.361e+04</td>\n",
       "</tr>\n",
       "<tr>\n",
       "  <th>Df Residuals:</th>          <td>   195</td>      <th>  BIC:               </th> <td>-1.359e+04</td>\n",
       "</tr>\n",
       "<tr>\n",
       "  <th>Df Model:</th>              <td>     4</td>      <th>                     </th>      <td> </td>    \n",
       "</tr>\n",
       "<tr>\n",
       "  <th>Covariance Type:</th>      <td>nonrobust</td>    <th>                     </th>      <td> </td>    \n",
       "</tr>\n",
       "</table>\n",
       "<table class=\"simpletable\">\n",
       "<tr>\n",
       "      <td></td>         <th>coef</th>     <th>std err</th>      <th>t</th>      <th>P>|t|</th>  <th>[0.025</th>    <th>0.975]</th>  \n",
       "</tr>\n",
       "<tr>\n",
       "  <th>const</th>     <td>   14.0225</td> <td> 2.85e-17</td> <td> 4.91e+17</td> <td> 0.000</td> <td>   14.023</td> <td>   14.023</td>\n",
       "</tr>\n",
       "<tr>\n",
       "  <th>TV</th>        <td> 3.331e-16</td> <td> 7.29e-17</td> <td>    4.571</td> <td> 0.000</td> <td> 1.89e-16</td> <td> 4.77e-16</td>\n",
       "</tr>\n",
       "<tr>\n",
       "  <th>radio</th>     <td>         0</td> <td> 5.67e-17</td> <td>        0</td> <td> 1.000</td> <td>-1.12e-16</td> <td> 1.12e-16</td>\n",
       "</tr>\n",
       "<tr>\n",
       "  <th>newspaper</th> <td>         0</td> <td> 3.05e-17</td> <td>        0</td> <td> 1.000</td> <td>-6.02e-17</td> <td> 6.02e-17</td>\n",
       "</tr>\n",
       "<tr>\n",
       "  <th>sales</th>     <td>    5.2044</td> <td>  8.9e-17</td> <td> 5.85e+16</td> <td> 0.000</td> <td>    5.204</td> <td>    5.204</td>\n",
       "</tr>\n",
       "</table>\n",
       "<table class=\"simpletable\">\n",
       "<tr>\n",
       "  <th>Omnibus:</th>       <td>96.511</td> <th>  Durbin-Watson:     </th> <td>   2.000</td> \n",
       "</tr>\n",
       "<tr>\n",
       "  <th>Prob(Omnibus):</th> <td> 0.000</td> <th>  Jarque-Bera (JB):  </th> <td>31218.929</td>\n",
       "</tr>\n",
       "<tr>\n",
       "  <th>Skew:</th>          <td>-0.010</td> <th>  Prob(JB):          </th> <td>    0.00</td> \n",
       "</tr>\n",
       "<tr>\n",
       "  <th>Kurtosis:</th>      <td>64.207</td> <th>  Cond. No.          </th> <td>    6.25</td> \n",
       "</tr>\n",
       "</table><br/><br/>Notes:<br/>[1] Standard Errors assume that the covariance matrix of the errors is correctly specified."
      ],
      "text/latex": [
       "\\begin{center}\n",
       "\\begin{tabular}{lclc}\n",
       "\\toprule\n",
       "\\textbf{Dep. Variable:}    &      sales       & \\textbf{  R-squared:         } &     1.000   \\\\\n",
       "\\textbf{Model:}            &       OLS        & \\textbf{  Adj. R-squared:    } &     1.000   \\\\\n",
       "\\textbf{Method:}           &  Least Squares   & \\textbf{  F-statistic:       } & 8.317e+33   \\\\\n",
       "\\textbf{Date:}             & Thu, 16 Oct 2025 & \\textbf{  Prob (F-statistic):} &     0.00    \\\\\n",
       "\\textbf{Time:}             &     19:55:01     & \\textbf{  Log-Likelihood:    } &    6808.0   \\\\\n",
       "\\textbf{No. Observations:} &         200      & \\textbf{  AIC:               } & -1.361e+04  \\\\\n",
       "\\textbf{Df Residuals:}     &         195      & \\textbf{  BIC:               } & -1.359e+04  \\\\\n",
       "\\textbf{Df Model:}         &           4      & \\textbf{                     } &             \\\\\n",
       "\\textbf{Covariance Type:}  &    nonrobust     & \\textbf{                     } &             \\\\\n",
       "\\bottomrule\n",
       "\\end{tabular}\n",
       "\\begin{tabular}{lcccccc}\n",
       "                   & \\textbf{coef} & \\textbf{std err} & \\textbf{t} & \\textbf{P$> |$t$|$} & \\textbf{[0.025} & \\textbf{0.975]}  \\\\\n",
       "\\midrule\n",
       "\\textbf{const}     &      14.0225  &     2.85e-17     &  4.91e+17  &         0.000        &       14.023    &       14.023     \\\\\n",
       "\\textbf{TV}        &    3.331e-16  &     7.29e-17     &     4.571  &         0.000        &     1.89e-16    &     4.77e-16     \\\\\n",
       "\\textbf{radio}     &            0  &     5.67e-17     &         0  &         1.000        &    -1.12e-16    &     1.12e-16     \\\\\n",
       "\\textbf{newspaper} &            0  &     3.05e-17     &         0  &         1.000        &    -6.02e-17    &     6.02e-17     \\\\\n",
       "\\textbf{sales}     &       5.2044  &      8.9e-17     &  5.85e+16  &         0.000        &        5.204    &        5.204     \\\\\n",
       "\\bottomrule\n",
       "\\end{tabular}\n",
       "\\begin{tabular}{lclc}\n",
       "\\textbf{Omnibus:}       & 96.511 & \\textbf{  Durbin-Watson:     } &     2.000  \\\\\n",
       "\\textbf{Prob(Omnibus):} &  0.000 & \\textbf{  Jarque-Bera (JB):  } & 31218.929  \\\\\n",
       "\\textbf{Skew:}          & -0.010 & \\textbf{  Prob(JB):          } &      0.00  \\\\\n",
       "\\textbf{Kurtosis:}      & 64.207 & \\textbf{  Cond. No.          } &      6.25  \\\\\n",
       "\\bottomrule\n",
       "\\end{tabular}\n",
       "%\\caption{OLS Regression Results}\n",
       "\\end{center}\n",
       "\n",
       "Notes: \\newline\n",
       " [1] Standard Errors assume that the covariance matrix of the errors is correctly specified."
      ],
      "text/plain": [
       "<class 'statsmodels.iolib.summary.Summary'>\n",
       "\"\"\"\n",
       "                            OLS Regression Results                            \n",
       "==============================================================================\n",
       "Dep. Variable:                  sales   R-squared:                       1.000\n",
       "Model:                            OLS   Adj. R-squared:                  1.000\n",
       "Method:                 Least Squares   F-statistic:                 8.317e+33\n",
       "Date:                Thu, 16 Oct 2025   Prob (F-statistic):               0.00\n",
       "Time:                        19:55:01   Log-Likelihood:                 6808.0\n",
       "No. Observations:                 200   AIC:                        -1.361e+04\n",
       "Df Residuals:                     195   BIC:                        -1.359e+04\n",
       "Df Model:                           4                                         \n",
       "Covariance Type:            nonrobust                                         \n",
       "==============================================================================\n",
       "                 coef    std err          t      P>|t|      [0.025      0.975]\n",
       "------------------------------------------------------------------------------\n",
       "const         14.0225   2.85e-17   4.91e+17      0.000      14.023      14.023\n",
       "TV          3.331e-16   7.29e-17      4.571      0.000    1.89e-16    4.77e-16\n",
       "radio               0   5.67e-17          0      1.000   -1.12e-16    1.12e-16\n",
       "newspaper           0   3.05e-17          0      1.000   -6.02e-17    6.02e-17\n",
       "sales          5.2044    8.9e-17   5.85e+16      0.000       5.204       5.204\n",
       "==============================================================================\n",
       "Omnibus:                       96.511   Durbin-Watson:                   2.000\n",
       "Prob(Omnibus):                  0.000   Jarque-Bera (JB):            31218.929\n",
       "Skew:                          -0.010   Prob(JB):                         0.00\n",
       "Kurtosis:                      64.207   Cond. No.                         6.25\n",
       "==============================================================================\n",
       "\n",
       "Notes:\n",
       "[1] Standard Errors assume that the covariance matrix of the errors is correctly specified.\n",
       "\"\"\""
      ]
     },
     "execution_count": 31,
     "metadata": {},
     "output_type": "execute_result"
    }
   ],
   "source": [
    "from sklearn.preprocessing import StandardScaler\n",
    "import statsmodels.api as sm\n",
    "\n",
    "scale = StandardScaler()\n",
    "\n",
    "X = df[['TV', 'radio', 'newspaper', 'sales']] # con doble corchete el resultado es otro DF\n",
    "y = df['sales'] #el resultado es una Serie\n",
    "\n",
    "# to_numpy() convierte de DataFrame a Numpy array\n",
    "# Estandarización (Z-Score): Transforma los datos para que tengan una media de 0 y una desviación estándar de 1. \n",
    "X[['TV', 'radio', 'newspaper', 'sales']] = scale.fit_transform(X[['TV', 'radio', 'newspaper', 'sales']].to_numpy())\n",
    "X = sm.add_constant(X) #Añade una columna de 1nos para poder obtener B, la ordenada al origen\n",
    "\n",
    "print(X)\n",
    "\n",
    "est = sm.OLS(y, X).fit()\n",
    "est.summary()\n"
   ]
  },
  {
   "cell_type": "raw",
   "metadata": {
    "deletable": true,
    "editable": true
   },
   "source": [
    "La tabla nos indica los coeficientes de cada característica y el valor su importancia. Lo más importante son los cilindros, si tiene muchos es que el coche suele ser más caro. Al aumentar las millas, el precio disminuye. Los coches con menos puertas suelen ser más caros.\n"
   ]
  },
  {
   "cell_type": "raw",
   "metadata": {},
   "source": [
    "Añadimos un nuevo coche para estimar su precio"
   ]
  },
  {
   "cell_type": "code",
   "execution_count": 23,
   "metadata": {},
   "outputs": [
    {
     "name": "stdout",
     "output_type": "stream",
     "text": [
      "[ 1.          3.43881165  1.96971667  0.55627894 -1.11986815]\n",
      "[26145.1249472]\n"
     ]
    }
   ],
   "source": [
    "import numpy as np\n",
    "\n",
    "scaled = scale.transform([[48000,8,4,1.8]]) #El coche nuevo lo escala para que coincida con el modelo\n",
    "scaled = np.insert(scaled[0], 0, 1) # la columna de la constante\n",
    "print(scaled)\n",
    "predicted = est.predict(scaled)\n",
    "print(predicted)"
   ]
  },
  {
   "cell_type": "code",
   "execution_count": null,
   "metadata": {
    "collapsed": false,
    "deletable": true,
    "editable": true,
    "jupyter": {
     "outputs_hidden": false
    }
   },
   "outputs": [],
   "source": [
    "## Para obtener los valores predichos usando los mismos datos\n",
    "#print(est.fittedvalues)\n",
    "#print(y)"
   ]
  },
  {
   "cell_type": "markdown",
   "metadata": {
    "deletable": true,
    "editable": true
   },
   "source": [
    "## Actividad"
   ]
  },
  {
   "cell_type": "markdown",
   "metadata": {
    "deletable": true,
    "editable": true
   },
   "source": [
    "Hacer cambios en los datos para ver como influyen en los coeficientes."
   ]
  }
 ],
 "metadata": {
  "kernelspec": {
   "display_name": "Python 3",
   "language": "python",
   "name": "python3"
  },
  "language_info": {
   "codemirror_mode": {
    "name": "ipython",
    "version": 3
   },
   "file_extension": ".py",
   "mimetype": "text/x-python",
   "name": "python",
   "nbconvert_exporter": "python",
   "pygments_lexer": "ipython3",
   "version": "3.13.7"
  }
 },
 "nbformat": 4,
 "nbformat_minor": 4
}
