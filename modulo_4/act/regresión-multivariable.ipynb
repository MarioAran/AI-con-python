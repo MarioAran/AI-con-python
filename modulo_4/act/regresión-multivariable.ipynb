{
 "cells": [
  {
   "cell_type": "markdown",
   "metadata": {
    "deletable": true,
    "editable": true
   },
   "source": [
    "# Regresión multivariable"
   ]
  },
  {
   "cell_type": "markdown",
   "metadata": {
    "deletable": true,
    "editable": true
   },
   "source": [
    "Obtenemos datos de ventas de coches (ficticios)"
   ]
  },
  {
   "cell_type": "code",
   "execution_count": 4,
   "metadata": {
    "collapsed": false,
    "deletable": true,
    "editable": true,
    "jupyter": {
     "outputs_hidden": false
    }
   },
   "outputs": [],
   "source": [
    "import pandas as pd\n",
    "\n",
    "df = pd.read_excel('./datos/cars.xls')\n"
   ]
  },
  {
   "cell_type": "code",
   "execution_count": 5,
   "metadata": {
    "collapsed": false,
    "deletable": true,
    "editable": true,
    "jupyter": {
     "outputs_hidden": false
    }
   },
   "outputs": [
    {
     "data": {
      "text/html": [
       "<div>\n",
       "<style scoped>\n",
       "    .dataframe tbody tr th:only-of-type {\n",
       "        vertical-align: middle;\n",
       "    }\n",
       "\n",
       "    .dataframe tbody tr th {\n",
       "        vertical-align: top;\n",
       "    }\n",
       "\n",
       "    .dataframe thead th {\n",
       "        text-align: right;\n",
       "    }\n",
       "</style>\n",
       "<table border=\"1\" class=\"dataframe\">\n",
       "  <thead>\n",
       "    <tr style=\"text-align: right;\">\n",
       "      <th></th>\n",
       "      <th>Price</th>\n",
       "      <th>Mileage</th>\n",
       "      <th>Make</th>\n",
       "      <th>Model</th>\n",
       "      <th>Trim</th>\n",
       "      <th>Type</th>\n",
       "      <th>Cylinder</th>\n",
       "      <th>Liter</th>\n",
       "      <th>Doors</th>\n",
       "      <th>Cruise</th>\n",
       "      <th>Sound</th>\n",
       "      <th>Leather</th>\n",
       "    </tr>\n",
       "  </thead>\n",
       "  <tbody>\n",
       "    <tr>\n",
       "      <th>0</th>\n",
       "      <td>17314.103129</td>\n",
       "      <td>8221</td>\n",
       "      <td>Buick</td>\n",
       "      <td>Century</td>\n",
       "      <td>Sedan 4D</td>\n",
       "      <td>Sedan</td>\n",
       "      <td>6</td>\n",
       "      <td>3.1</td>\n",
       "      <td>4</td>\n",
       "      <td>1</td>\n",
       "      <td>1</td>\n",
       "      <td>1</td>\n",
       "    </tr>\n",
       "    <tr>\n",
       "      <th>1</th>\n",
       "      <td>17542.036083</td>\n",
       "      <td>9135</td>\n",
       "      <td>Buick</td>\n",
       "      <td>Century</td>\n",
       "      <td>Sedan 4D</td>\n",
       "      <td>Sedan</td>\n",
       "      <td>6</td>\n",
       "      <td>3.1</td>\n",
       "      <td>4</td>\n",
       "      <td>1</td>\n",
       "      <td>1</td>\n",
       "      <td>0</td>\n",
       "    </tr>\n",
       "    <tr>\n",
       "      <th>2</th>\n",
       "      <td>16218.847862</td>\n",
       "      <td>13196</td>\n",
       "      <td>Buick</td>\n",
       "      <td>Century</td>\n",
       "      <td>Sedan 4D</td>\n",
       "      <td>Sedan</td>\n",
       "      <td>6</td>\n",
       "      <td>3.1</td>\n",
       "      <td>4</td>\n",
       "      <td>1</td>\n",
       "      <td>1</td>\n",
       "      <td>0</td>\n",
       "    </tr>\n",
       "    <tr>\n",
       "      <th>3</th>\n",
       "      <td>16336.913140</td>\n",
       "      <td>16342</td>\n",
       "      <td>Buick</td>\n",
       "      <td>Century</td>\n",
       "      <td>Sedan 4D</td>\n",
       "      <td>Sedan</td>\n",
       "      <td>6</td>\n",
       "      <td>3.1</td>\n",
       "      <td>4</td>\n",
       "      <td>1</td>\n",
       "      <td>0</td>\n",
       "      <td>0</td>\n",
       "    </tr>\n",
       "    <tr>\n",
       "      <th>4</th>\n",
       "      <td>16339.170324</td>\n",
       "      <td>19832</td>\n",
       "      <td>Buick</td>\n",
       "      <td>Century</td>\n",
       "      <td>Sedan 4D</td>\n",
       "      <td>Sedan</td>\n",
       "      <td>6</td>\n",
       "      <td>3.1</td>\n",
       "      <td>4</td>\n",
       "      <td>1</td>\n",
       "      <td>0</td>\n",
       "      <td>1</td>\n",
       "    </tr>\n",
       "  </tbody>\n",
       "</table>\n",
       "</div>"
      ],
      "text/plain": [
       "          Price  Mileage   Make    Model      Trim   Type  Cylinder  Liter  \\\n",
       "0  17314.103129     8221  Buick  Century  Sedan 4D  Sedan         6    3.1   \n",
       "1  17542.036083     9135  Buick  Century  Sedan 4D  Sedan         6    3.1   \n",
       "2  16218.847862    13196  Buick  Century  Sedan 4D  Sedan         6    3.1   \n",
       "3  16336.913140    16342  Buick  Century  Sedan 4D  Sedan         6    3.1   \n",
       "4  16339.170324    19832  Buick  Century  Sedan 4D  Sedan         6    3.1   \n",
       "\n",
       "   Doors  Cruise  Sound  Leather  \n",
       "0      4       1      1        1  \n",
       "1      4       1      1        0  \n",
       "2      4       1      1        0  \n",
       "3      4       1      0        0  \n",
       "4      4       1      0        1  "
      ]
     },
     "execution_count": 5,
     "metadata": {},
     "output_type": "execute_result"
    }
   ],
   "source": [
    "df.head()"
   ]
  },
  {
   "cell_type": "markdown",
   "metadata": {
    "deletable": true,
    "editable": true
   },
   "source": [
    "Las columnas Make, Model, Trim, Type no son útiles para este ejemplo. No se pueden mapear a nada que tenga sentido.\n",
    "\n",
    "Con Pandas dividimos los datos para sacar los vectores con las caractarísitcas que nos interesan y los valores del precio que es lo que queremos predecir.\n"
   ]
  },
  {
   "cell_type": "markdown",
   "metadata": {
    "deletable": true,
    "editable": true
   },
   "source": [
    "Se escalan los datos para que los distintos coeficientes se puedan comparar entre ellos y ver cuál es más relevante."
   ]
  },
  {
   "cell_type": "code",
   "execution_count": 9,
   "metadata": {
    "collapsed": false,
    "deletable": true,
    "editable": true,
    "jupyter": {
     "outputs_hidden": false
    }
   },
   "outputs": [
    {
     "name": "stdout",
     "output_type": "stream",
     "text": [
      "     const   Mileage  Cylinder     Doors     Liter\n",
      "0      1.0 -1.417485   0.52741  0.556279  0.056736\n",
      "1      1.0 -1.305902   0.52741  0.556279  0.056736\n",
      "2      1.0 -0.810128   0.52741  0.556279  0.056736\n",
      "3      1.0 -0.426058   0.52741  0.556279  0.056736\n",
      "4      1.0  0.000008   0.52741  0.556279  0.056736\n",
      "..     ...       ...       ...       ...       ...\n",
      "799    1.0 -0.439853   0.52741  0.556279 -0.033772\n",
      "800    1.0 -0.089966   0.52741  0.556279 -0.033772\n",
      "801    1.0  0.079605   0.52741  0.556279 -0.033772\n",
      "802    1.0  0.750446   0.52741  0.556279 -0.033772\n",
      "803    1.0  1.932565   0.52741  0.556279 -0.033772\n",
      "\n",
      "[804 rows x 5 columns]\n"
     ]
    },
    {
     "name": "stderr",
     "output_type": "stream",
     "text": [
      "/var/folders/y5/ts3kf20x52bgymr4_zgtyp980000gn/T/ipykernel_5079/1838316890.py:11: SettingWithCopyWarning: \n",
      "A value is trying to be set on a copy of a slice from a DataFrame.\n",
      "Try using .loc[row_indexer,col_indexer] = value instead\n",
      "\n",
      "See the caveats in the documentation: https://pandas.pydata.org/pandas-docs/stable/user_guide/indexing.html#returning-a-view-versus-a-copy\n",
      "  X[['Mileage', 'Cylinder', 'Doors','Liter']] = scale.fit_transform(X[['Mileage', 'Cylinder', 'Doors','Liter']].to_numpy())\n"
     ]
    },
    {
     "data": {
      "text/html": [
       "<table class=\"simpletable\">\n",
       "<caption>OLS Regression Results</caption>\n",
       "<tr>\n",
       "  <th>Dep. Variable:</th>          <td>Price</td>      <th>  R-squared:         </th> <td>   0.360</td> \n",
       "</tr>\n",
       "<tr>\n",
       "  <th>Model:</th>                   <td>OLS</td>       <th>  Adj. R-squared:    </th> <td>   0.357</td> \n",
       "</tr>\n",
       "<tr>\n",
       "  <th>Method:</th>             <td>Least Squares</td>  <th>  F-statistic:       </th> <td>   112.4</td> \n",
       "</tr>\n",
       "<tr>\n",
       "  <th>Date:</th>             <td>Thu, 16 Oct 2025</td> <th>  Prob (F-statistic):</th> <td>4.97e-76</td> \n",
       "</tr>\n",
       "<tr>\n",
       "  <th>Time:</th>                 <td>19:10:14</td>     <th>  Log-Likelihood:    </th> <td> -8356.6</td> \n",
       "</tr>\n",
       "<tr>\n",
       "  <th>No. Observations:</th>      <td>   804</td>      <th>  AIC:               </th> <td>1.672e+04</td>\n",
       "</tr>\n",
       "<tr>\n",
       "  <th>Df Residuals:</th>          <td>   799</td>      <th>  BIC:               </th> <td>1.675e+04</td>\n",
       "</tr>\n",
       "<tr>\n",
       "  <th>Df Model:</th>              <td>     4</td>      <th>                     </th>     <td> </td>    \n",
       "</tr>\n",
       "<tr>\n",
       "  <th>Covariance Type:</th>      <td>nonrobust</td>    <th>                     </th>     <td> </td>    \n",
       "</tr>\n",
       "</table>\n",
       "<table class=\"simpletable\">\n",
       "<tr>\n",
       "      <td></td>        <th>coef</th>     <th>std err</th>      <th>t</th>      <th>P>|t|</th>  <th>[0.025</th>    <th>0.975]</th>  \n",
       "</tr>\n",
       "<tr>\n",
       "  <th>const</th>    <td> 2.134e+04</td> <td>  279.559</td> <td>   76.346</td> <td> 0.000</td> <td> 2.08e+04</td> <td> 2.19e+04</td>\n",
       "</tr>\n",
       "<tr>\n",
       "  <th>Mileage</th>  <td>-1275.2178</td> <td>  279.845</td> <td>   -4.557</td> <td> 0.000</td> <td>-1824.536</td> <td> -725.899</td>\n",
       "</tr>\n",
       "<tr>\n",
       "  <th>Cylinder</th> <td> 5251.9235</td> <td> 1012.814</td> <td>    5.185</td> <td> 0.000</td> <td> 3263.832</td> <td> 7240.015</td>\n",
       "</tr>\n",
       "<tr>\n",
       "  <th>Doors</th>    <td>-1376.1100</td> <td>  291.522</td> <td>   -4.720</td> <td> 0.000</td> <td>-1948.349</td> <td> -803.871</td>\n",
       "</tr>\n",
       "<tr>\n",
       "  <th>Liter</th>    <td>  350.1174</td> <td> 1015.772</td> <td>    0.345</td> <td> 0.730</td> <td>-1643.780</td> <td> 2344.015</td>\n",
       "</tr>\n",
       "</table>\n",
       "<table class=\"simpletable\">\n",
       "<tr>\n",
       "  <th>Omnibus:</th>       <td>160.986</td> <th>  Durbin-Watson:     </th> <td>   0.069</td>\n",
       "</tr>\n",
       "<tr>\n",
       "  <th>Prob(Omnibus):</th> <td> 0.000</td>  <th>  Jarque-Bera (JB):  </th> <td> 265.567</td>\n",
       "</tr>\n",
       "<tr>\n",
       "  <th>Skew:</th>          <td> 1.291</td>  <th>  Prob(JB):          </th> <td>2.15e-58</td>\n",
       "</tr>\n",
       "<tr>\n",
       "  <th>Kurtosis:</th>      <td> 4.125</td>  <th>  Cond. No.          </th> <td>    7.13</td>\n",
       "</tr>\n",
       "</table><br/><br/>Notes:<br/>[1] Standard Errors assume that the covariance matrix of the errors is correctly specified."
      ],
      "text/latex": [
       "\\begin{center}\n",
       "\\begin{tabular}{lclc}\n",
       "\\toprule\n",
       "\\textbf{Dep. Variable:}    &      Price       & \\textbf{  R-squared:         } &     0.360   \\\\\n",
       "\\textbf{Model:}            &       OLS        & \\textbf{  Adj. R-squared:    } &     0.357   \\\\\n",
       "\\textbf{Method:}           &  Least Squares   & \\textbf{  F-statistic:       } &     112.4   \\\\\n",
       "\\textbf{Date:}             & Thu, 16 Oct 2025 & \\textbf{  Prob (F-statistic):} &  4.97e-76   \\\\\n",
       "\\textbf{Time:}             &     19:10:14     & \\textbf{  Log-Likelihood:    } &   -8356.6   \\\\\n",
       "\\textbf{No. Observations:} &         804      & \\textbf{  AIC:               } & 1.672e+04   \\\\\n",
       "\\textbf{Df Residuals:}     &         799      & \\textbf{  BIC:               } & 1.675e+04   \\\\\n",
       "\\textbf{Df Model:}         &           4      & \\textbf{                     } &             \\\\\n",
       "\\textbf{Covariance Type:}  &    nonrobust     & \\textbf{                     } &             \\\\\n",
       "\\bottomrule\n",
       "\\end{tabular}\n",
       "\\begin{tabular}{lcccccc}\n",
       "                  & \\textbf{coef} & \\textbf{std err} & \\textbf{t} & \\textbf{P$> |$t$|$} & \\textbf{[0.025} & \\textbf{0.975]}  \\\\\n",
       "\\midrule\n",
       "\\textbf{const}    &    2.134e+04  &      279.559     &    76.346  &         0.000        &     2.08e+04    &     2.19e+04     \\\\\n",
       "\\textbf{Mileage}  &   -1275.2178  &      279.845     &    -4.557  &         0.000        &    -1824.536    &     -725.899     \\\\\n",
       "\\textbf{Cylinder} &    5251.9235  &     1012.814     &     5.185  &         0.000        &     3263.832    &     7240.015     \\\\\n",
       "\\textbf{Doors}    &   -1376.1100  &      291.522     &    -4.720  &         0.000        &    -1948.349    &     -803.871     \\\\\n",
       "\\textbf{Liter}    &     350.1174  &     1015.772     &     0.345  &         0.730        &    -1643.780    &     2344.015     \\\\\n",
       "\\bottomrule\n",
       "\\end{tabular}\n",
       "\\begin{tabular}{lclc}\n",
       "\\textbf{Omnibus:}       & 160.986 & \\textbf{  Durbin-Watson:     } &    0.069  \\\\\n",
       "\\textbf{Prob(Omnibus):} &   0.000 & \\textbf{  Jarque-Bera (JB):  } &  265.567  \\\\\n",
       "\\textbf{Skew:}          &   1.291 & \\textbf{  Prob(JB):          } & 2.15e-58  \\\\\n",
       "\\textbf{Kurtosis:}      &   4.125 & \\textbf{  Cond. No.          } &     7.13  \\\\\n",
       "\\bottomrule\n",
       "\\end{tabular}\n",
       "%\\caption{OLS Regression Results}\n",
       "\\end{center}\n",
       "\n",
       "Notes: \\newline\n",
       " [1] Standard Errors assume that the covariance matrix of the errors is correctly specified."
      ],
      "text/plain": [
       "<class 'statsmodels.iolib.summary.Summary'>\n",
       "\"\"\"\n",
       "                            OLS Regression Results                            \n",
       "==============================================================================\n",
       "Dep. Variable:                  Price   R-squared:                       0.360\n",
       "Model:                            OLS   Adj. R-squared:                  0.357\n",
       "Method:                 Least Squares   F-statistic:                     112.4\n",
       "Date:                Thu, 16 Oct 2025   Prob (F-statistic):           4.97e-76\n",
       "Time:                        19:10:14   Log-Likelihood:                -8356.6\n",
       "No. Observations:                 804   AIC:                         1.672e+04\n",
       "Df Residuals:                     799   BIC:                         1.675e+04\n",
       "Df Model:                           4                                         \n",
       "Covariance Type:            nonrobust                                         \n",
       "==============================================================================\n",
       "                 coef    std err          t      P>|t|      [0.025      0.975]\n",
       "------------------------------------------------------------------------------\n",
       "const       2.134e+04    279.559     76.346      0.000    2.08e+04    2.19e+04\n",
       "Mileage    -1275.2178    279.845     -4.557      0.000   -1824.536    -725.899\n",
       "Cylinder    5251.9235   1012.814      5.185      0.000    3263.832    7240.015\n",
       "Doors      -1376.1100    291.522     -4.720      0.000   -1948.349    -803.871\n",
       "Liter        350.1174   1015.772      0.345      0.730   -1643.780    2344.015\n",
       "==============================================================================\n",
       "Omnibus:                      160.986   Durbin-Watson:                   0.069\n",
       "Prob(Omnibus):                  0.000   Jarque-Bera (JB):              265.567\n",
       "Skew:                           1.291   Prob(JB):                     2.15e-58\n",
       "Kurtosis:                       4.125   Cond. No.                         7.13\n",
       "==============================================================================\n",
       "\n",
       "Notes:\n",
       "[1] Standard Errors assume that the covariance matrix of the errors is correctly specified.\n",
       "\"\"\""
      ]
     },
     "execution_count": 9,
     "metadata": {},
     "output_type": "execute_result"
    }
   ],
   "source": [
    "from sklearn.preprocessing import StandardScaler\n",
    "import statsmodels.api as sm\n",
    "\n",
    "scale = StandardScaler()\n",
    "\n",
    "X = df[['Mileage', 'Cylinder', 'Doors', 'Liter']] # con doble corchete el resultado es otro DF\n",
    "y = df['Price'] #el resultado es una Serie\n",
    "\n",
    "# to_numpy() convierte de DataFrame a Numpy array\n",
    "# Estandarización (Z-Score): Transforma los datos para que tengan una media de 0 y una desviación estándar de 1. \n",
    "X[['Mileage', 'Cylinder', 'Doors','Liter']] = scale.fit_transform(X[['Mileage', 'Cylinder', 'Doors','Liter']].to_numpy())\n",
    "X = sm.add_constant(X) #Añade una columna de 1nos para poder obtener B, la ordenada al origen\n",
    "\n",
    "print(X)\n",
    "\n",
    "est = sm.OLS(y, X).fit()\n",
    "est.summary()\n"
   ]
  },
  {
   "cell_type": "raw",
   "metadata": {
    "deletable": true,
    "editable": true
   },
   "source": [
    "La tabla nos indica los coeficientes de cada característica y el valor su importancia. Lo más importante son los cilindros, si tiene muchos es que el coche suele ser más caro. Al aumentar las millas, el precio disminuye. Los coches con menos puertas suelen ser más caros.\n"
   ]
  },
  {
   "cell_type": "raw",
   "metadata": {},
   "source": [
    "Añadimos un nuevo coche para estimar su precio"
   ]
  },
  {
   "cell_type": "code",
   "execution_count": null,
   "metadata": {},
   "outputs": [
    {
     "name": "stdout",
     "output_type": "stream",
     "text": [
      "[ 1.          3.07256589  1.96971667  0.55627894 -1.11986815]\n",
      "[26612.16805763]\n"
     ]
    }
   ],
   "source": [
    "import numpy as np\n",
    "\n",
    "scaled = scale.transform([[45000,8,4,1.8]]) #El coche nuevo lo escala para que coincida con el modelo\n",
    "scaled = np.insert(scaled[0], 0, 1) # la columna de la constante\n",
    "print(scaled)\n",
    "predicted = est.predict(scaled)\n",
    "print(predicted)"
   ]
  },
  {
   "cell_type": "code",
   "execution_count": null,
   "metadata": {
    "collapsed": false,
    "deletable": true,
    "editable": true,
    "jupyter": {
     "outputs_hidden": false
    }
   },
   "outputs": [],
   "source": [
    "## Para obtener los valores predichos usando los mismos datos\n",
    "#print(est.fittedvalues)\n",
    "#print(y)"
   ]
  },
  {
   "cell_type": "markdown",
   "metadata": {
    "deletable": true,
    "editable": true
   },
   "source": [
    "## Actividad"
   ]
  },
  {
   "cell_type": "markdown",
   "metadata": {
    "deletable": true,
    "editable": true
   },
   "source": [
    "Hacer cambios en los datos para ver como influyen en los coeficientes."
   ]
  }
 ],
 "metadata": {
  "kernelspec": {
   "display_name": "Python 3",
   "language": "python",
   "name": "python3"
  },
  "language_info": {
   "codemirror_mode": {
    "name": "ipython",
    "version": 3
   },
   "file_extension": ".py",
   "mimetype": "text/x-python",
   "name": "python",
   "nbconvert_exporter": "python",
   "pygments_lexer": "ipython3",
   "version": "3.13.7"
  }
 },
 "nbformat": 4,
 "nbformat_minor": 4
}
