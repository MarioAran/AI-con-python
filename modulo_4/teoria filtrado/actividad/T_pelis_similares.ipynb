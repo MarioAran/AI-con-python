{
 "cells": [
  {
   "cell_type": "markdown",
   "metadata": {
    "deletable": true,
    "editable": true
   },
   "source": [
    "# Encontrando películas similares"
   ]
  },
  {
   "cell_type": "code",
   "execution_count": 13,
   "metadata": {
    "collapsed": false,
    "deletable": true,
    "editable": true,
    "jupyter": {
     "outputs_hidden": false
    }
   },
   "outputs": [
    {
     "data": {
      "text/html": [
       "<div>\n",
       "<style scoped>\n",
       "    .dataframe tbody tr th:only-of-type {\n",
       "        vertical-align: middle;\n",
       "    }\n",
       "\n",
       "    .dataframe tbody tr th {\n",
       "        vertical-align: top;\n",
       "    }\n",
       "\n",
       "    .dataframe thead th {\n",
       "        text-align: right;\n",
       "    }\n",
       "</style>\n",
       "<table border=\"1\" class=\"dataframe\">\n",
       "  <thead>\n",
       "    <tr style=\"text-align: right;\">\n",
       "      <th></th>\n",
       "      <th>user_id</th>\n",
       "      <th>anime_id</th>\n",
       "      <th>rating</th>\n",
       "      <th>name</th>\n",
       "    </tr>\n",
       "  </thead>\n",
       "  <tbody>\n",
       "    <tr>\n",
       "      <th>47</th>\n",
       "      <td>1</td>\n",
       "      <td>8074</td>\n",
       "      <td>10</td>\n",
       "      <td>Highschool of the Dead</td>\n",
       "    </tr>\n",
       "    <tr>\n",
       "      <th>81</th>\n",
       "      <td>1</td>\n",
       "      <td>11617</td>\n",
       "      <td>10</td>\n",
       "      <td>High School DxD</td>\n",
       "    </tr>\n",
       "    <tr>\n",
       "      <th>83</th>\n",
       "      <td>1</td>\n",
       "      <td>11757</td>\n",
       "      <td>10</td>\n",
       "      <td>Sword Art Online</td>\n",
       "    </tr>\n",
       "    <tr>\n",
       "      <th>101</th>\n",
       "      <td>1</td>\n",
       "      <td>15451</td>\n",
       "      <td>10</td>\n",
       "      <td>High School DxD New</td>\n",
       "    </tr>\n",
       "    <tr>\n",
       "      <th>153</th>\n",
       "      <td>2</td>\n",
       "      <td>11771</td>\n",
       "      <td>10</td>\n",
       "      <td>Kuroko no Basket</td>\n",
       "    </tr>\n",
       "  </tbody>\n",
       "</table>\n",
       "</div>"
      ],
      "text/plain": [
       "     user_id  anime_id  rating                    name\n",
       "47         1      8074      10  Highschool of the Dead\n",
       "81         1     11617      10         High School DxD\n",
       "83         1     11757      10        Sword Art Online\n",
       "101        1     15451      10     High School DxD New\n",
       "153        2     11771      10        Kuroko no Basket"
      ]
     },
     "execution_count": 13,
     "metadata": {},
     "output_type": "execute_result"
    }
   ],
   "source": [
    "import pandas as pd\n",
    "r_cols = ['user_id', 'anime_id', 'rating']\n",
    "df_rating = pd.read_csv('data/rating.csv', usecols=r_cols)\n",
    "\n",
    "#eliminar los rating -1 que significaria que no han valorado\n",
    "df_rating = df_rating[df_rating['rating'] != -1]\n",
    "\n",
    "c_cols = ['anime_id', 'name']\n",
    "df_anime = pd.read_csv('data/anime.csv', usecols=c_cols)\n",
    "# Crear un diccionario: {anime_id: name}\n",
    "anime_dict = dict(zip(df_anime['anime_id'], df_anime['name']))\n",
    "# Mapear directamente en df_rating\n",
    "df_rating['name'] = df_rating['anime_id'].map(anime_dict)\n",
    "df_rating.head()\n"
   ]
  },
  {
   "cell_type": "code",
   "execution_count": 15,
   "metadata": {
    "collapsed": false,
    "deletable": true,
    "editable": true,
    "jupyter": {
     "outputs_hidden": false
    }
   },
   "outputs": [
    {
     "ename": "ValueError",
     "evalue": "Index contains duplicate entries, cannot reshape",
     "output_type": "error",
     "traceback": [
      "\u001b[31m---------------------------------------------------------------------------\u001b[39m",
      "\u001b[31mValueError\u001b[39m                                Traceback (most recent call last)",
      "\u001b[36mCell\u001b[39m\u001b[36m \u001b[39m\u001b[32mIn[15]\u001b[39m\u001b[32m, line 1\u001b[39m\n\u001b[32m----> \u001b[39m\u001b[32m1\u001b[39m movieRatings = \u001b[43mdf_rating\u001b[49m\u001b[43m.\u001b[49m\u001b[43mpivot\u001b[49m\u001b[43m(\u001b[49m\u001b[43mindex\u001b[49m\u001b[43m=\u001b[49m\u001b[43m[\u001b[49m\u001b[33;43m'\u001b[39;49m\u001b[33;43muser_id\u001b[39;49m\u001b[33;43m'\u001b[39;49m\u001b[43m]\u001b[49m\u001b[43m,\u001b[49m\u001b[43mcolumns\u001b[49m\u001b[43m=\u001b[49m\u001b[43m[\u001b[49m\u001b[33;43m'\u001b[39;49m\u001b[33;43mname\u001b[39;49m\u001b[33;43m'\u001b[39;49m\u001b[43m]\u001b[49m\u001b[43m,\u001b[49m\u001b[43m \u001b[49m\u001b[43mvalues\u001b[49m\u001b[43m=\u001b[49m\u001b[33;43m'\u001b[39;49m\u001b[33;43mrating\u001b[39;49m\u001b[33;43m'\u001b[39;49m\u001b[43m)\u001b[49m\n\u001b[32m      2\u001b[39m movieRatings.head()\n",
      "\u001b[36mFile \u001b[39m\u001b[32m/Library/Frameworks/Python.framework/Versions/3.13/lib/python3.13/site-packages/pandas/core/frame.py:9366\u001b[39m, in \u001b[36mDataFrame.pivot\u001b[39m\u001b[34m(self, columns, index, values)\u001b[39m\n\u001b[32m   9359\u001b[39m \u001b[38;5;129m@Substitution\u001b[39m(\u001b[33m\"\u001b[39m\u001b[33m\"\u001b[39m)\n\u001b[32m   9360\u001b[39m \u001b[38;5;129m@Appender\u001b[39m(_shared_docs[\u001b[33m\"\u001b[39m\u001b[33mpivot\u001b[39m\u001b[33m\"\u001b[39m])\n\u001b[32m   9361\u001b[39m \u001b[38;5;28;01mdef\u001b[39;00m\u001b[38;5;250m \u001b[39m\u001b[34mpivot\u001b[39m(\n\u001b[32m   9362\u001b[39m     \u001b[38;5;28mself\u001b[39m, *, columns, index=lib.no_default, values=lib.no_default\n\u001b[32m   9363\u001b[39m ) -> DataFrame:\n\u001b[32m   9364\u001b[39m     \u001b[38;5;28;01mfrom\u001b[39;00m\u001b[38;5;250m \u001b[39m\u001b[34;01mpandas\u001b[39;00m\u001b[34;01m.\u001b[39;00m\u001b[34;01mcore\u001b[39;00m\u001b[34;01m.\u001b[39;00m\u001b[34;01mreshape\u001b[39;00m\u001b[34;01m.\u001b[39;00m\u001b[34;01mpivot\u001b[39;00m\u001b[38;5;250m \u001b[39m\u001b[38;5;28;01mimport\u001b[39;00m pivot\n\u001b[32m-> \u001b[39m\u001b[32m9366\u001b[39m     \u001b[38;5;28;01mreturn\u001b[39;00m \u001b[43mpivot\u001b[49m\u001b[43m(\u001b[49m\u001b[38;5;28;43mself\u001b[39;49m\u001b[43m,\u001b[49m\u001b[43m \u001b[49m\u001b[43mindex\u001b[49m\u001b[43m=\u001b[49m\u001b[43mindex\u001b[49m\u001b[43m,\u001b[49m\u001b[43m \u001b[49m\u001b[43mcolumns\u001b[49m\u001b[43m=\u001b[49m\u001b[43mcolumns\u001b[49m\u001b[43m,\u001b[49m\u001b[43m \u001b[49m\u001b[43mvalues\u001b[49m\u001b[43m=\u001b[49m\u001b[43mvalues\u001b[49m\u001b[43m)\u001b[49m\n",
      "\u001b[36mFile \u001b[39m\u001b[32m/Library/Frameworks/Python.framework/Versions/3.13/lib/python3.13/site-packages/pandas/core/reshape/pivot.py:570\u001b[39m, in \u001b[36mpivot\u001b[39m\u001b[34m(data, columns, index, values)\u001b[39m\n\u001b[32m    566\u001b[39m         indexed = data._constructor_sliced(data[values]._values, index=multiindex)\n\u001b[32m    567\u001b[39m \u001b[38;5;66;03m# error: Argument 1 to \"unstack\" of \"DataFrame\" has incompatible type \"Union\u001b[39;00m\n\u001b[32m    568\u001b[39m \u001b[38;5;66;03m# [List[Any], ExtensionArray, ndarray[Any, Any], Index, Series]\"; expected\u001b[39;00m\n\u001b[32m    569\u001b[39m \u001b[38;5;66;03m# \"Hashable\"\u001b[39;00m\n\u001b[32m--> \u001b[39m\u001b[32m570\u001b[39m result = \u001b[43mindexed\u001b[49m\u001b[43m.\u001b[49m\u001b[43munstack\u001b[49m\u001b[43m(\u001b[49m\u001b[43mcolumns_listlike\u001b[49m\u001b[43m)\u001b[49m  \u001b[38;5;66;03m# type: ignore[arg-type]\u001b[39;00m\n\u001b[32m    571\u001b[39m result.index.names = [\n\u001b[32m    572\u001b[39m     name \u001b[38;5;28;01mif\u001b[39;00m name \u001b[38;5;129;01mis\u001b[39;00m \u001b[38;5;129;01mnot\u001b[39;00m lib.no_default \u001b[38;5;28;01melse\u001b[39;00m \u001b[38;5;28;01mNone\u001b[39;00m \u001b[38;5;28;01mfor\u001b[39;00m name \u001b[38;5;129;01min\u001b[39;00m result.index.names\n\u001b[32m    573\u001b[39m ]\n\u001b[32m    575\u001b[39m \u001b[38;5;28;01mreturn\u001b[39;00m result\n",
      "\u001b[36mFile \u001b[39m\u001b[32m/Library/Frameworks/Python.framework/Versions/3.13/lib/python3.13/site-packages/pandas/core/series.py:4634\u001b[39m, in \u001b[36mSeries.unstack\u001b[39m\u001b[34m(self, level, fill_value, sort)\u001b[39m\n\u001b[32m   4589\u001b[39m \u001b[38;5;250m\u001b[39m\u001b[33;03m\"\"\"\u001b[39;00m\n\u001b[32m   4590\u001b[39m \u001b[33;03mUnstack, also known as pivot, Series with MultiIndex to produce DataFrame.\u001b[39;00m\n\u001b[32m   4591\u001b[39m \n\u001b[32m   (...)\u001b[39m\u001b[32m   4630\u001b[39m \u001b[33;03mb    2    4\u001b[39;00m\n\u001b[32m   4631\u001b[39m \u001b[33;03m\"\"\"\u001b[39;00m\n\u001b[32m   4632\u001b[39m \u001b[38;5;28;01mfrom\u001b[39;00m\u001b[38;5;250m \u001b[39m\u001b[34;01mpandas\u001b[39;00m\u001b[34;01m.\u001b[39;00m\u001b[34;01mcore\u001b[39;00m\u001b[34;01m.\u001b[39;00m\u001b[34;01mreshape\u001b[39;00m\u001b[34;01m.\u001b[39;00m\u001b[34;01mreshape\u001b[39;00m\u001b[38;5;250m \u001b[39m\u001b[38;5;28;01mimport\u001b[39;00m unstack\n\u001b[32m-> \u001b[39m\u001b[32m4634\u001b[39m \u001b[38;5;28;01mreturn\u001b[39;00m \u001b[43munstack\u001b[49m\u001b[43m(\u001b[49m\u001b[38;5;28;43mself\u001b[39;49m\u001b[43m,\u001b[49m\u001b[43m \u001b[49m\u001b[43mlevel\u001b[49m\u001b[43m,\u001b[49m\u001b[43m \u001b[49m\u001b[43mfill_value\u001b[49m\u001b[43m,\u001b[49m\u001b[43m \u001b[49m\u001b[43msort\u001b[49m\u001b[43m)\u001b[49m\n",
      "\u001b[36mFile \u001b[39m\u001b[32m/Library/Frameworks/Python.framework/Versions/3.13/lib/python3.13/site-packages/pandas/core/reshape/reshape.py:517\u001b[39m, in \u001b[36munstack\u001b[39m\u001b[34m(obj, level, fill_value, sort)\u001b[39m\n\u001b[32m    515\u001b[39m \u001b[38;5;28;01mif\u001b[39;00m is_1d_only_ea_dtype(obj.dtype):\n\u001b[32m    516\u001b[39m     \u001b[38;5;28;01mreturn\u001b[39;00m _unstack_extension_series(obj, level, fill_value, sort=sort)\n\u001b[32m--> \u001b[39m\u001b[32m517\u001b[39m unstacker = \u001b[43m_Unstacker\u001b[49m\u001b[43m(\u001b[49m\n\u001b[32m    518\u001b[39m \u001b[43m    \u001b[49m\u001b[43mobj\u001b[49m\u001b[43m.\u001b[49m\u001b[43mindex\u001b[49m\u001b[43m,\u001b[49m\u001b[43m \u001b[49m\u001b[43mlevel\u001b[49m\u001b[43m=\u001b[49m\u001b[43mlevel\u001b[49m\u001b[43m,\u001b[49m\u001b[43m \u001b[49m\u001b[43mconstructor\u001b[49m\u001b[43m=\u001b[49m\u001b[43mobj\u001b[49m\u001b[43m.\u001b[49m\u001b[43m_constructor_expanddim\u001b[49m\u001b[43m,\u001b[49m\u001b[43m \u001b[49m\u001b[43msort\u001b[49m\u001b[43m=\u001b[49m\u001b[43msort\u001b[49m\n\u001b[32m    519\u001b[39m \u001b[43m\u001b[49m\u001b[43m)\u001b[49m\n\u001b[32m    520\u001b[39m \u001b[38;5;28;01mreturn\u001b[39;00m unstacker.get_result(\n\u001b[32m    521\u001b[39m     obj._values, value_columns=\u001b[38;5;28;01mNone\u001b[39;00m, fill_value=fill_value\n\u001b[32m    522\u001b[39m )\n",
      "\u001b[36mFile \u001b[39m\u001b[32m/Library/Frameworks/Python.framework/Versions/3.13/lib/python3.13/site-packages/pandas/core/reshape/reshape.py:154\u001b[39m, in \u001b[36m_Unstacker.__init__\u001b[39m\u001b[34m(self, index, level, constructor, sort)\u001b[39m\n\u001b[32m    146\u001b[39m \u001b[38;5;28;01mif\u001b[39;00m num_cells > np.iinfo(np.int32).max:\n\u001b[32m    147\u001b[39m     warnings.warn(\n\u001b[32m    148\u001b[39m         \u001b[33mf\u001b[39m\u001b[33m\"\u001b[39m\u001b[33mThe following operation may generate \u001b[39m\u001b[38;5;132;01m{\u001b[39;00mnum_cells\u001b[38;5;132;01m}\u001b[39;00m\u001b[33m cells \u001b[39m\u001b[33m\"\u001b[39m\n\u001b[32m    149\u001b[39m         \u001b[33mf\u001b[39m\u001b[33m\"\u001b[39m\u001b[33min the resulting pandas object.\u001b[39m\u001b[33m\"\u001b[39m,\n\u001b[32m    150\u001b[39m         PerformanceWarning,\n\u001b[32m    151\u001b[39m         stacklevel=find_stack_level(),\n\u001b[32m    152\u001b[39m     )\n\u001b[32m--> \u001b[39m\u001b[32m154\u001b[39m \u001b[38;5;28;43mself\u001b[39;49m\u001b[43m.\u001b[49m\u001b[43m_make_selectors\u001b[49m\u001b[43m(\u001b[49m\u001b[43m)\u001b[49m\n",
      "\u001b[36mFile \u001b[39m\u001b[32m/Library/Frameworks/Python.framework/Versions/3.13/lib/python3.13/site-packages/pandas/core/reshape/reshape.py:210\u001b[39m, in \u001b[36m_Unstacker._make_selectors\u001b[39m\u001b[34m(self)\u001b[39m\n\u001b[32m    207\u001b[39m mask.put(selector, \u001b[38;5;28;01mTrue\u001b[39;00m)\n\u001b[32m    209\u001b[39m \u001b[38;5;28;01mif\u001b[39;00m mask.sum() < \u001b[38;5;28mlen\u001b[39m(\u001b[38;5;28mself\u001b[39m.index):\n\u001b[32m--> \u001b[39m\u001b[32m210\u001b[39m     \u001b[38;5;28;01mraise\u001b[39;00m \u001b[38;5;167;01mValueError\u001b[39;00m(\u001b[33m\"\u001b[39m\u001b[33mIndex contains duplicate entries, cannot reshape\u001b[39m\u001b[33m\"\u001b[39m)\n\u001b[32m    212\u001b[39m \u001b[38;5;28mself\u001b[39m.group_index = comp_index\n\u001b[32m    213\u001b[39m \u001b[38;5;28mself\u001b[39m.mask = mask\n",
      "\u001b[31mValueError\u001b[39m: Index contains duplicate entries, cannot reshape"
     ]
    }
   ],
   "source": [
    "movieRatings = df_rating.pivot(index=['user_id'],columns=['name'], values='rating')\n",
    "movieRatings.head()"
   ]
  },
  {
   "cell_type": "code",
   "execution_count": null,
   "metadata": {
    "collapsed": false,
    "deletable": true,
    "editable": true,
    "jupyter": {
     "outputs_hidden": false
    }
   },
   "outputs": [
    {
     "data": {
      "text/plain": [
       "user_id\n",
       "1    NaN\n",
       "2    NaN\n",
       "3    NaN\n",
       "4    NaN\n",
       "5    9.0\n",
       "Name: Gintama, dtype: float64"
      ]
     },
     "execution_count": 64,
     "metadata": {},
     "output_type": "execute_result"
    }
   ],
   "source": [
    "xxxHolic = movieRatings['Gintama']\n",
    "xxxHolic.head()"
   ]
  },
  {
   "cell_type": "markdown",
   "metadata": {
    "deletable": true,
    "editable": true
   },
   "source": [
    "\"corrwith\" hace el cálculo de correlación entre Star Wars con todas las otras películas."
   ]
  },
  {
   "cell_type": "code",
   "execution_count": null,
   "metadata": {
    "collapsed": false,
    "deletable": true,
    "editable": true,
    "jupyter": {
     "outputs_hidden": false
    }
   },
   "outputs": [
    {
     "name": "stderr",
     "output_type": "stream",
     "text": [
      "/Library/Frameworks/Python.framework/Versions/3.13/lib/python3.13/site-packages/numpy/lib/_function_base_impl.py:3057: RuntimeWarning: Degrees of freedom <= 0 for slice\n",
      "  c = cov(x, y, rowvar, dtype=dtype)\n",
      "/Library/Frameworks/Python.framework/Versions/3.13/lib/python3.13/site-packages/numpy/lib/_function_base_impl.py:2914: RuntimeWarning: divide by zero encountered in divide\n",
      "  c *= np.true_divide(1, fact)\n",
      "/Library/Frameworks/Python.framework/Versions/3.13/lib/python3.13/site-packages/numpy/lib/_function_base_impl.py:2914: RuntimeWarning: invalid value encountered in multiply\n",
      "  c *= np.true_divide(1, fact)\n",
      "/Library/Frameworks/Python.framework/Versions/3.13/lib/python3.13/site-packages/numpy/lib/_function_base_impl.py:3065: RuntimeWarning: invalid value encountered in divide\n",
      "  c /= stddev[:, None]\n"
     ]
    },
    {
     "name": "stderr",
     "output_type": "stream",
     "text": [
      "/Library/Frameworks/Python.framework/Versions/3.13/lib/python3.13/site-packages/numpy/lib/_function_base_impl.py:3066: RuntimeWarning: invalid value encountered in divide\n",
      "  c /= stddev[None, :]\n"
     ]
    },
    {
     "data": {
      "text/html": [
       "<div>\n",
       "<style scoped>\n",
       "    .dataframe tbody tr th:only-of-type {\n",
       "        vertical-align: middle;\n",
       "    }\n",
       "\n",
       "    .dataframe tbody tr th {\n",
       "        vertical-align: top;\n",
       "    }\n",
       "\n",
       "    .dataframe thead th {\n",
       "        text-align: right;\n",
       "    }\n",
       "</style>\n",
       "<table border=\"1\" class=\"dataframe\">\n",
       "  <thead>\n",
       "    <tr style=\"text-align: right;\">\n",
       "      <th></th>\n",
       "      <th>0</th>\n",
       "    </tr>\n",
       "    <tr>\n",
       "      <th>name</th>\n",
       "      <th></th>\n",
       "    </tr>\n",
       "  </thead>\n",
       "  <tbody>\n",
       "    <tr>\n",
       "      <th>0</th>\n",
       "      <td>0.892029</td>\n",
       "    </tr>\n",
       "    <tr>\n",
       "      <th>001</th>\n",
       "      <td>1.000000</td>\n",
       "    </tr>\n",
       "    <tr>\n",
       "      <th>009 Re:Cyborg</th>\n",
       "      <td>0.671861</td>\n",
       "    </tr>\n",
       "    <tr>\n",
       "      <th>009-1</th>\n",
       "      <td>0.702477</td>\n",
       "    </tr>\n",
       "    <tr>\n",
       "      <th>009-1: R&amp;amp;B</th>\n",
       "      <td>0.601229</td>\n",
       "    </tr>\n",
       "    <tr>\n",
       "      <th>00:08</th>\n",
       "      <td>0.289295</td>\n",
       "    </tr>\n",
       "    <tr>\n",
       "      <th>07-Ghost</th>\n",
       "      <td>0.618813</td>\n",
       "    </tr>\n",
       "    <tr>\n",
       "      <th>1+2=Paradise</th>\n",
       "      <td>0.760680</td>\n",
       "    </tr>\n",
       "    <tr>\n",
       "      <th>1000-nen Joou: Queen Millennia</th>\n",
       "      <td>0.936617</td>\n",
       "    </tr>\n",
       "    <tr>\n",
       "      <th>1001 Nights</th>\n",
       "      <td>0.607280</td>\n",
       "    </tr>\n",
       "  </tbody>\n",
       "</table>\n",
       "</div>"
      ],
      "text/plain": [
       "                                       0\n",
       "name                                    \n",
       "0                               0.892029\n",
       "001                             1.000000\n",
       "009 Re:Cyborg                   0.671861\n",
       "009-1                           0.702477\n",
       "009-1: R&amp;B                  0.601229\n",
       "00:08                           0.289295\n",
       "07-Ghost                        0.618813\n",
       "1+2=Paradise                    0.760680\n",
       "1000-nen Joou: Queen Millennia  0.936617\n",
       "1001 Nights                     0.607280"
      ]
     },
     "execution_count": 65,
     "metadata": {},
     "output_type": "execute_result"
    }
   ],
   "source": [
    "similarxxxHolic = movieRatings.corrwith(xxxHolic)\n",
    "similarxxxHolic = similarxxxHolic.dropna()\n",
    "\n",
    "df = pd.DataFrame(similarxxxHolic)\n",
    "df.head(10)"
   ]
  },
  {
   "cell_type": "code",
   "execution_count": null,
   "metadata": {
    "collapsed": false,
    "deletable": true,
    "editable": true,
    "jupyter": {
     "outputs_hidden": false
    }
   },
   "outputs": [
    {
     "data": {
      "text/plain": [
       "name\n",
       "001                                                                1.0\n",
       "Zukkoke Knight: Don De La Mancha                                   1.0\n",
       "Doraemon Movie 35: Nobita no Space Heroes                          1.0\n",
       "Doraemon: Nobita to Mirai Note                                     1.0\n",
       "Detective Conan: Episode One - Chiisaku Natta Meitantei            1.0\n",
       "Detective Conan: Nazo no Suisei Kaijuu wo Oe!                      1.0\n",
       "Yukiwatari                                                         1.0\n",
       "Yume kara, Samenai                                                 1.0\n",
       "Yume no Crayon Oukoku                                              1.0\n",
       "Yuusei Shounen Papii                                               1.0\n",
       "Yuusha Shirei Dagwon: Suishou no Hitomi no Shounen                 1.0\n",
       "77Danui Bimil                                                      1.0\n",
       "Doudou                                                             1.0\n",
       "Doukyuusei 2 (OVA)                                                 1.0\n",
       "Doukyuusei 2 (OVA) Special: Sotsugyousei                           1.0\n",
       "Dragon Fist                                                        1.0\n",
       "DragonBlade                                                        1.0\n",
       "Dreams                                                             1.0\n",
       "Duel Masters Movie 2: Lunatic God Saga                             1.0\n",
       "Duel Masters Movie 3: Honoo no Kizuna XX                           1.0\n",
       "Duel Masters Victory                                               1.0\n",
       "Duel Masters Victory V                                             1.0\n",
       "Duel Masters Victory V3                                            1.0\n",
       "E no Umakatta Tomodachi                                            1.0\n",
       "Eiga de Toujou! Tamagotchi Dokidoki! Uchuu no Maigotchi!?          1.0\n",
       "Eikoku Ikka, Nihon wo Taberu                                       1.0\n",
       "Eikoku Ikka, Nihon wo Taberu: English Ikka, Shougatsu wo Taberu    1.0\n",
       "Denshinbashira no Okaasan                                          1.0\n",
       "Yousei Dick                                                        1.0\n",
       "A-Girl                                                             1.0\n",
       "Yu Bang Xiang Zheng                                                1.0\n",
       "Yuki                                                               1.0\n",
       "Fabre-sensei wa Meitantei                                          1.0\n",
       "Fafa Movie                                                         1.0\n",
       "Fantasista Stella                                                  1.0\n",
       "Feeling from Mountain and Water                                    1.0\n",
       "Fujiko Fujio A no Mumako                                           1.0\n",
       "Fuku-chan no Sensuikan                                             1.0\n",
       "Dededen                                                            1.0\n",
       "Yamiyo no Jidaigeki                                                1.0\n",
       "dtype: float64"
      ]
     },
     "execution_count": 66,
     "metadata": {},
     "output_type": "execute_result"
    }
   ],
   "source": [
    "similarxxxHolic.sort_values(ascending=False).head(40)"
   ]
  },
  {
   "cell_type": "markdown",
   "metadata": {
    "deletable": true,
    "editable": true
   },
   "source": [
    "Hay muchas películas que en realidad tienen poco que ver con Star Wards. Probablemente hay un par de personas que vieron Star Wars y también Full Speed por ejemplo, que no es una película muy conocida y eso ya le da un puntaje de similaridad alto. ¿Cómo se puede arreglar?\n",
    "\n",
    "Agrupamos por título y mostramos la cantidad de calificaciones y su media."
   ]
  },
  {
   "cell_type": "code",
   "execution_count": null,
   "metadata": {
    "collapsed": false,
    "deletable": true,
    "editable": true,
    "jupyter": {
     "outputs_hidden": false
    }
   },
   "outputs": [
    {
     "data": {
      "text/html": [
       "<div>\n",
       "<style scoped>\n",
       "    .dataframe tbody tr th:only-of-type {\n",
       "        vertical-align: middle;\n",
       "    }\n",
       "\n",
       "    .dataframe tbody tr th {\n",
       "        vertical-align: top;\n",
       "    }\n",
       "\n",
       "    .dataframe thead th {\n",
       "        text-align: right;\n",
       "    }\n",
       "</style>\n",
       "<table border=\"1\" class=\"dataframe\">\n",
       "  <thead>\n",
       "    <tr style=\"text-align: right;\">\n",
       "      <th></th>\n",
       "      <th>rating</th>\n",
       "    </tr>\n",
       "    <tr>\n",
       "      <th>name</th>\n",
       "      <th></th>\n",
       "    </tr>\n",
       "  </thead>\n",
       "  <tbody>\n",
       "    <tr>\n",
       "      <th>0</th>\n",
       "      <td>26</td>\n",
       "    </tr>\n",
       "    <tr>\n",
       "      <th>0-sen Hayato</th>\n",
       "      <td>1</td>\n",
       "    </tr>\n",
       "    <tr>\n",
       "      <th>0-sen Hayato Pilot</th>\n",
       "      <td>1</td>\n",
       "    </tr>\n",
       "    <tr>\n",
       "      <th>001</th>\n",
       "      <td>12</td>\n",
       "    </tr>\n",
       "    <tr>\n",
       "      <th>009 Re:Cyborg</th>\n",
       "      <td>291</td>\n",
       "    </tr>\n",
       "    <tr>\n",
       "      <th>009-1</th>\n",
       "      <td>304</td>\n",
       "    </tr>\n",
       "    <tr>\n",
       "      <th>009-1: R&amp;amp;B</th>\n",
       "      <td>128</td>\n",
       "    </tr>\n",
       "    <tr>\n",
       "      <th>00:08</th>\n",
       "      <td>43</td>\n",
       "    </tr>\n",
       "    <tr>\n",
       "      <th>07-Ghost</th>\n",
       "      <td>4867</td>\n",
       "    </tr>\n",
       "    <tr>\n",
       "      <th>1+2=Paradise</th>\n",
       "      <td>143</td>\n",
       "    </tr>\n",
       "    <tr>\n",
       "      <th>100%</th>\n",
       "      <td>3</td>\n",
       "    </tr>\n",
       "    <tr>\n",
       "      <th>100-man-nen Chikyuu no Tabi: Bander Book</th>\n",
       "      <td>13</td>\n",
       "    </tr>\n",
       "    <tr>\n",
       "      <th>1000-nen Joou: Queen Millennia</th>\n",
       "      <td>59</td>\n",
       "    </tr>\n",
       "    <tr>\n",
       "      <th>1001 Nights</th>\n",
       "      <td>190</td>\n",
       "    </tr>\n",
       "    <tr>\n",
       "      <th>11-nin Iru!</th>\n",
       "      <td>143</td>\n",
       "    </tr>\n",
       "  </tbody>\n",
       "</table>\n",
       "</div>"
      ],
      "text/plain": [
       "                                          rating\n",
       "name                                            \n",
       "0                                             26\n",
       "0-sen Hayato                                   1\n",
       "0-sen Hayato Pilot                             1\n",
       "001                                           12\n",
       "009 Re:Cyborg                                291\n",
       "009-1                                        304\n",
       "009-1: R&amp;B                               128\n",
       "00:08                                         43\n",
       "07-Ghost                                    4867\n",
       "1+2=Paradise                                 143\n",
       "100%                                           3\n",
       "100-man-nen Chikyuu no Tabi: Bander Book      13\n",
       "1000-nen Joou: Queen Millennia                59\n",
       "1001 Nights                                  190\n",
       "11-nin Iru!                                  143"
      ]
     },
     "execution_count": 68,
     "metadata": {},
     "output_type": "execute_result"
    }
   ],
   "source": [
    "import numpy as np\n",
    "\n",
    "movieStatsNuevo = df_rating.groupby('name').agg({'rating': np.size})\n",
    "movieStatsNuevo.head(15)"
   ]
  },
  {
   "cell_type": "markdown",
   "metadata": {
    "deletable": true,
    "editable": true
   },
   "source": [
    "Eliminamos las películas que tienen menos de 100 calificaciones porque no queremos que los datos estén sesgados para algunas personas que vieron películas que nadie conoce y después se recomienden."
   ]
  },
  {
   "cell_type": "code",
   "execution_count": null,
   "metadata": {
    "collapsed": false,
    "deletable": true,
    "editable": true,
    "jupyter": {
     "outputs_hidden": false
    }
   },
   "outputs": [
    {
     "data": {
      "text/html": [
       "<div>\n",
       "<style scoped>\n",
       "    .dataframe tbody tr th:only-of-type {\n",
       "        vertical-align: middle;\n",
       "    }\n",
       "\n",
       "    .dataframe tbody tr th {\n",
       "        vertical-align: top;\n",
       "    }\n",
       "\n",
       "    .dataframe thead th {\n",
       "        text-align: right;\n",
       "    }\n",
       "</style>\n",
       "<table border=\"1\" class=\"dataframe\">\n",
       "  <thead>\n",
       "    <tr style=\"text-align: right;\">\n",
       "      <th></th>\n",
       "      <th>rating</th>\n",
       "    </tr>\n",
       "    <tr>\n",
       "      <th>name</th>\n",
       "      <th></th>\n",
       "    </tr>\n",
       "  </thead>\n",
       "  <tbody>\n",
       "    <tr>\n",
       "      <th>Death Note</th>\n",
       "      <td>39340</td>\n",
       "    </tr>\n",
       "    <tr>\n",
       "      <th>Sword Art Online</th>\n",
       "      <td>30583</td>\n",
       "    </tr>\n",
       "    <tr>\n",
       "      <th>Shingeki no Kyojin</th>\n",
       "      <td>29584</td>\n",
       "    </tr>\n",
       "    <tr>\n",
       "      <th>Code Geass: Hangyaku no Lelouch</th>\n",
       "      <td>27718</td>\n",
       "    </tr>\n",
       "    <tr>\n",
       "      <th>Elfen Lied</th>\n",
       "      <td>27506</td>\n",
       "    </tr>\n",
       "    <tr>\n",
       "      <th>Angel Beats!</th>\n",
       "      <td>27183</td>\n",
       "    </tr>\n",
       "    <tr>\n",
       "      <th>Naruto</th>\n",
       "      <td>25925</td>\n",
       "    </tr>\n",
       "    <tr>\n",
       "      <th>Fullmetal Alchemist</th>\n",
       "      <td>25032</td>\n",
       "    </tr>\n",
       "    <tr>\n",
       "      <th>Fullmetal Alchemist: Brotherhood</th>\n",
       "      <td>24574</td>\n",
       "    </tr>\n",
       "    <tr>\n",
       "      <th>Toradora!</th>\n",
       "      <td>24283</td>\n",
       "    </tr>\n",
       "    <tr>\n",
       "      <th>Code Geass: Hangyaku no Lelouch R2</th>\n",
       "      <td>24242</td>\n",
       "    </tr>\n",
       "    <tr>\n",
       "      <th>Highschool of the Dead</th>\n",
       "      <td>23065</td>\n",
       "    </tr>\n",
       "    <tr>\n",
       "      <th>Sen to Chihiro no Kamikakushi</th>\n",
       "      <td>22974</td>\n",
       "    </tr>\n",
       "    <tr>\n",
       "      <th>Mirai Nikki (TV)</th>\n",
       "      <td>21826</td>\n",
       "    </tr>\n",
       "    <tr>\n",
       "      <th>Clannad</th>\n",
       "      <td>21721</td>\n",
       "    </tr>\n",
       "    <tr>\n",
       "      <th>Ao no Exorcist</th>\n",
       "      <td>21204</td>\n",
       "    </tr>\n",
       "    <tr>\n",
       "      <th>Another</th>\n",
       "      <td>20130</td>\n",
       "    </tr>\n",
       "    <tr>\n",
       "      <th>Soul Eater</th>\n",
       "      <td>19759</td>\n",
       "    </tr>\n",
       "    <tr>\n",
       "      <th>Tengen Toppa Gurren Lagann</th>\n",
       "      <td>19337</td>\n",
       "    </tr>\n",
       "    <tr>\n",
       "      <th>Steins;Gate</th>\n",
       "      <td>19283</td>\n",
       "    </tr>\n",
       "  </tbody>\n",
       "</table>\n",
       "</div>"
      ],
      "text/plain": [
       "                                    rating\n",
       "name                                      \n",
       "Death Note                           39340\n",
       "Sword Art Online                     30583\n",
       "Shingeki no Kyojin                   29584\n",
       "Code Geass: Hangyaku no Lelouch      27718\n",
       "Elfen Lied                           27506\n",
       "Angel Beats!                         27183\n",
       "Naruto                               25925\n",
       "Fullmetal Alchemist                  25032\n",
       "Fullmetal Alchemist: Brotherhood     24574\n",
       "Toradora!                            24283\n",
       "Code Geass: Hangyaku no Lelouch R2   24242\n",
       "Highschool of the Dead               23065\n",
       "Sen to Chihiro no Kamikakushi        22974\n",
       "Mirai Nikki (TV)                     21826\n",
       "Clannad                              21721\n",
       "Ao no Exorcist                       21204\n",
       "Another                              20130\n",
       "Soul Eater                           19759\n",
       "Tengen Toppa Gurren Lagann           19337\n",
       "Steins;Gate                          19283"
      ]
     },
     "execution_count": 70,
     "metadata": {},
     "output_type": "execute_result"
    }
   ],
   "source": [
    "popularMoviesNuevo = movieStatsNuevo['rating'] >= 100\n",
    "movieStatsNuevo[popularMoviesNuevo].sort_values([('rating')], ascending=False)[:20]"
   ]
  },
  {
   "cell_type": "markdown",
   "metadata": {
    "deletable": true,
    "editable": true
   },
   "source": [
    "El límite de 100 calificaciones quizás es muy bajo, pero ya nos sirve. Ahora unimos estos datos con el dataframe de película similares a StarWars."
   ]
  },
  {
   "cell_type": "code",
   "execution_count": null,
   "metadata": {
    "collapsed": false,
    "deletable": true,
    "editable": true,
    "jupyter": {
     "outputs_hidden": false
    }
   },
   "outputs": [
    {
     "data": {
      "text/html": [
       "<div>\n",
       "<style scoped>\n",
       "    .dataframe tbody tr th:only-of-type {\n",
       "        vertical-align: middle;\n",
       "    }\n",
       "\n",
       "    .dataframe tbody tr th {\n",
       "        vertical-align: top;\n",
       "    }\n",
       "\n",
       "    .dataframe thead th {\n",
       "        text-align: right;\n",
       "    }\n",
       "</style>\n",
       "<table border=\"1\" class=\"dataframe\">\n",
       "  <thead>\n",
       "    <tr style=\"text-align: right;\">\n",
       "      <th></th>\n",
       "      <th>rating</th>\n",
       "      <th>similarity</th>\n",
       "    </tr>\n",
       "    <tr>\n",
       "      <th>name</th>\n",
       "      <th></th>\n",
       "      <th></th>\n",
       "    </tr>\n",
       "  </thead>\n",
       "  <tbody>\n",
       "    <tr>\n",
       "      <th>009 Re:Cyborg</th>\n",
       "      <td>291</td>\n",
       "      <td>0.671861</td>\n",
       "    </tr>\n",
       "    <tr>\n",
       "      <th>009-1</th>\n",
       "      <td>304</td>\n",
       "      <td>0.702477</td>\n",
       "    </tr>\n",
       "    <tr>\n",
       "      <th>009-1: R&amp;amp;B</th>\n",
       "      <td>128</td>\n",
       "      <td>0.601229</td>\n",
       "    </tr>\n",
       "    <tr>\n",
       "      <th>07-Ghost</th>\n",
       "      <td>4867</td>\n",
       "      <td>0.618813</td>\n",
       "    </tr>\n",
       "    <tr>\n",
       "      <th>1+2=Paradise</th>\n",
       "      <td>143</td>\n",
       "      <td>0.760680</td>\n",
       "    </tr>\n",
       "  </tbody>\n",
       "</table>\n",
       "</div>"
      ],
      "text/plain": [
       "                rating  similarity\n",
       "name                              \n",
       "009 Re:Cyborg      291    0.671861\n",
       "009-1              304    0.702477\n",
       "009-1: R&amp;B     128    0.601229\n",
       "07-Ghost          4867    0.618813\n",
       "1+2=Paradise       143    0.760680"
      ]
     },
     "execution_count": 71,
     "metadata": {},
     "output_type": "execute_result"
    }
   ],
   "source": [
    "df = movieStatsNuevo[popularMoviesNuevo].join(pd.DataFrame(similarxxxHolic, columns=['similarity']))\n",
    "df.head()\n"
   ]
  },
  {
   "cell_type": "markdown",
   "metadata": {
    "deletable": true,
    "editable": true
   },
   "source": [
    "Ahora mostrar ordenados por similaridad."
   ]
  },
  {
   "cell_type": "code",
   "execution_count": null,
   "metadata": {
    "collapsed": false,
    "deletable": true,
    "editable": true,
    "jupyter": {
     "outputs_hidden": false
    }
   },
   "outputs": [
    {
     "data": {
      "text/html": [
       "<div>\n",
       "<style scoped>\n",
       "    .dataframe tbody tr th:only-of-type {\n",
       "        vertical-align: middle;\n",
       "    }\n",
       "\n",
       "    .dataframe tbody tr th {\n",
       "        vertical-align: top;\n",
       "    }\n",
       "\n",
       "    .dataframe thead th {\n",
       "        text-align: right;\n",
       "    }\n",
       "</style>\n",
       "<table border=\"1\" class=\"dataframe\">\n",
       "  <thead>\n",
       "    <tr style=\"text-align: right;\">\n",
       "      <th></th>\n",
       "      <th>rating</th>\n",
       "      <th>similarity</th>\n",
       "    </tr>\n",
       "    <tr>\n",
       "      <th>name</th>\n",
       "      <th></th>\n",
       "      <th></th>\n",
       "    </tr>\n",
       "  </thead>\n",
       "  <tbody>\n",
       "    <tr>\n",
       "      <th>Gintama</th>\n",
       "      <td>8647</td>\n",
       "      <td>1.000000</td>\n",
       "    </tr>\n",
       "    <tr>\n",
       "      <th>Elf no Wakaokusama</th>\n",
       "      <td>109</td>\n",
       "      <td>0.971710</td>\n",
       "    </tr>\n",
       "    <tr>\n",
       "      <th>Ojamajo Doremi Na-i-sho</th>\n",
       "      <td>135</td>\n",
       "      <td>0.968547</td>\n",
       "    </tr>\n",
       "    <tr>\n",
       "      <th>Waga Seishun no Arcadia</th>\n",
       "      <td>164</td>\n",
       "      <td>0.967030</td>\n",
       "    </tr>\n",
       "    <tr>\n",
       "      <th>Samurai Spirits: Haten Gouma no Shou</th>\n",
       "      <td>101</td>\n",
       "      <td>0.965362</td>\n",
       "    </tr>\n",
       "    <tr>\n",
       "      <th>Harlock Saga: Nibelung no Yubiwa</th>\n",
       "      <td>111</td>\n",
       "      <td>0.957944</td>\n",
       "    </tr>\n",
       "    <tr>\n",
       "      <th>Shin Getter Robo</th>\n",
       "      <td>155</td>\n",
       "      <td>0.957014</td>\n",
       "    </tr>\n",
       "    <tr>\n",
       "      <th>Meitantei Holmes</th>\n",
       "      <td>121</td>\n",
       "      <td>0.956978</td>\n",
       "    </tr>\n",
       "    <tr>\n",
       "      <th>Maria†Holic Alive Special</th>\n",
       "      <td>120</td>\n",
       "      <td>0.949999</td>\n",
       "    </tr>\n",
       "    <tr>\n",
       "      <th>Soukou Kihei Votoms: Pailsen Files</th>\n",
       "      <td>102</td>\n",
       "      <td>0.946872</td>\n",
       "    </tr>\n",
       "    <tr>\n",
       "      <th>Puchimas!!: Petit Petit iDOLM@STER</th>\n",
       "      <td>147</td>\n",
       "      <td>0.941239</td>\n",
       "    </tr>\n",
       "    <tr>\n",
       "      <th>Jibaku-kun</th>\n",
       "      <td>286</td>\n",
       "      <td>0.935753</td>\n",
       "    </tr>\n",
       "    <tr>\n",
       "      <th>Ys: Tenkuu no Shinden - Adol Christine no Bouken</th>\n",
       "      <td>114</td>\n",
       "      <td>0.931814</td>\n",
       "    </tr>\n",
       "    <tr>\n",
       "      <th>Majin Bone</th>\n",
       "      <td>100</td>\n",
       "      <td>0.931010</td>\n",
       "    </tr>\n",
       "    <tr>\n",
       "      <th>Oseam</th>\n",
       "      <td>106</td>\n",
       "      <td>0.929730</td>\n",
       "    </tr>\n",
       "    <tr>\n",
       "      <th>Mobile Police Patlabor 2: The Movie</th>\n",
       "      <td>505</td>\n",
       "      <td>0.929720</td>\n",
       "    </tr>\n",
       "    <tr>\n",
       "      <th>Master Mosquiton</th>\n",
       "      <td>147</td>\n",
       "      <td>0.929223</td>\n",
       "    </tr>\n",
       "    <tr>\n",
       "      <th>Superflat First Love</th>\n",
       "      <td>114</td>\n",
       "      <td>0.926530</td>\n",
       "    </tr>\n",
       "    <tr>\n",
       "      <th>Wooser no Sono Higurashi: Kakusei-hen</th>\n",
       "      <td>164</td>\n",
       "      <td>0.924860</td>\n",
       "    </tr>\n",
       "    <tr>\n",
       "      <th>Koutetsushin Jeeg</th>\n",
       "      <td>119</td>\n",
       "      <td>0.921404</td>\n",
       "    </tr>\n",
       "  </tbody>\n",
       "</table>\n",
       "</div>"
      ],
      "text/plain": [
       "                                                  rating  similarity\n",
       "name                                                                \n",
       "Gintama                                             8647    1.000000\n",
       "Elf no Wakaokusama                                   109    0.971710\n",
       "Ojamajo Doremi Na-i-sho                              135    0.968547\n",
       "Waga Seishun no Arcadia                              164    0.967030\n",
       "Samurai Spirits: Haten Gouma no Shou                 101    0.965362\n",
       "Harlock Saga: Nibelung no Yubiwa                     111    0.957944\n",
       "Shin Getter Robo                                     155    0.957014\n",
       "Meitantei Holmes                                     121    0.956978\n",
       "Maria†Holic Alive Special                            120    0.949999\n",
       "Soukou Kihei Votoms: Pailsen Files                   102    0.946872\n",
       "Puchimas!!: Petit Petit iDOLM@STER                   147    0.941239\n",
       "Jibaku-kun                                           286    0.935753\n",
       "Ys: Tenkuu no Shinden - Adol Christine no Bouken     114    0.931814\n",
       "Majin Bone                                           100    0.931010\n",
       "Oseam                                                106    0.929730\n",
       "Mobile Police Patlabor 2: The Movie                  505    0.929720\n",
       "Master Mosquiton                                     147    0.929223\n",
       "Superflat First Love                                 114    0.926530\n",
       "Wooser no Sono Higurashi: Kakusei-hen                164    0.924860\n",
       "Koutetsushin Jeeg                                    119    0.921404"
      ]
     },
     "execution_count": 72,
     "metadata": {},
     "output_type": "execute_result"
    }
   ],
   "source": [
    "df.sort_values(['similarity'], ascending=False).head(20)\n",
    "#pd.set_option('display.max_rows', None)\n",
    "#print(df)"
   ]
  }
 ],
 "metadata": {
  "kernelspec": {
   "display_name": "Python 3",
   "language": "python",
   "name": "python3"
  },
  "language_info": {
   "codemirror_mode": {
    "name": "ipython",
    "version": 3
   },
   "file_extension": ".py",
   "mimetype": "text/x-python",
   "name": "python",
   "nbconvert_exporter": "python",
   "pygments_lexer": "ipython3",
   "version": "3.13.7"
  }
 },
 "nbformat": 4,
 "nbformat_minor": 4
}
